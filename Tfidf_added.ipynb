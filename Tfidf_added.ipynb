{
  "nbformat": 4,
  "nbformat_minor": 0,
  "metadata": {
    "colab": {
      "provenance": [],
      "gpuType": "T4"
    },
    "kernelspec": {
      "name": "python3",
      "display_name": "Python 3"
    },
    "language_info": {
      "name": "python"
    },
    "accelerator": "GPU"
  },
  "cells": [
    {
      "cell_type": "code",
      "execution_count": 1,
      "metadata": {
        "colab": {
          "base_uri": "https://localhost:8080/"
        },
        "id": "lLXtEdJeKUlc",
        "outputId": "317796ab-ca7d-4922-ea76-17e2b5496196"
      },
      "outputs": [
        {
          "output_type": "stream",
          "name": "stdout",
          "text": [
            "Requirement already satisfied: nltk in /usr/local/lib/python3.10/dist-packages (3.8.1)\n",
            "Requirement already satisfied: click in /usr/local/lib/python3.10/dist-packages (from nltk) (8.1.7)\n",
            "Requirement already satisfied: joblib in /usr/local/lib/python3.10/dist-packages (from nltk) (1.4.2)\n",
            "Requirement already satisfied: regex>=2021.8.3 in /usr/local/lib/python3.10/dist-packages (from nltk) (2024.9.11)\n",
            "Requirement already satisfied: tqdm in /usr/local/lib/python3.10/dist-packages (from nltk) (4.66.5)\n"
          ]
        }
      ],
      "source": [
        "!pip install nltk"
      ]
    },
    {
      "cell_type": "code",
      "source": [],
      "metadata": {
        "id": "WbNJkrAmqOlf"
      },
      "execution_count": 1,
      "outputs": []
    },
    {
      "cell_type": "code",
      "source": [
        "paragraph = \"\"\"\n",
        "A short story is a piece of prose fiction.\n",
        "It can typically be read in a single sitting and focuses on a self-contained incident or series of linked incidents, with the intent of evoking a single effect or mood. The short story is one of the oldest types of literature and has existed in the form of legends, mythic tales, folk tales, fairy tales, tall tales, fables, and anecdotes in various ancient communities around the world. The modern short story developed in the early 19th century\n",
        "\"\"\""
      ],
      "metadata": {
        "id": "z-sO948nKiZw"
      },
      "execution_count": 2,
      "outputs": []
    },
    {
      "cell_type": "code",
      "source": [
        "paragraph"
      ],
      "metadata": {
        "colab": {
          "base_uri": "https://localhost:8080/",
          "height": 86
        },
        "id": "pvOMEAYTLAkc",
        "outputId": "4f3fe1c9-188d-41ce-d995-5415ba82d39c"
      },
      "execution_count": 3,
      "outputs": [
        {
          "output_type": "execute_result",
          "data": {
            "text/plain": [
              "'\\nA short story is a piece of prose fiction.\\nIt can typically be read in a single sitting and focuses on a self-contained incident or series of linked incidents, with the intent of evoking a single effect or mood. The short story is one of the oldest types of literature and has existed in the form of legends, mythic tales, folk tales, fairy tales, tall tales, fables, and anecdotes in various ancient communities around the world. The modern short story developed in the early 19th century\\n'"
            ],
            "application/vnd.google.colaboratory.intrinsic+json": {
              "type": "string"
            }
          },
          "metadata": {},
          "execution_count": 3
        }
      ]
    },
    {
      "cell_type": "code",
      "source": [
        "import nltk\n",
        "from nltk.stem import PorterStemmer\n",
        "from nltk.corpus import stopwords"
      ],
      "metadata": {
        "id": "JgTIRRRpLZ0c"
      },
      "execution_count": 4,
      "outputs": []
    },
    {
      "cell_type": "code",
      "source": [
        "# tokenization -- paragraph to sentence words\n",
        "nltk.download('punkt')\n",
        "sentences = nltk.sent_tokenize(paragraph)"
      ],
      "metadata": {
        "colab": {
          "base_uri": "https://localhost:8080/"
        },
        "id": "bP9CHXclLv2U",
        "outputId": "dd4632ed-6eb9-4b48-c828-6bc1e06c855e"
      },
      "execution_count": 5,
      "outputs": [
        {
          "output_type": "stream",
          "name": "stderr",
          "text": [
            "[nltk_data] Downloading package punkt to /root/nltk_data...\n",
            "[nltk_data]   Unzipping tokenizers/punkt.zip.\n"
          ]
        }
      ]
    },
    {
      "cell_type": "code",
      "source": [
        "sentences"
      ],
      "metadata": {
        "colab": {
          "base_uri": "https://localhost:8080/"
        },
        "id": "S30mJyDFMpug",
        "outputId": "389ed1b7-f586-4d1d-ac70-15b6b7df1ba7"
      },
      "execution_count": 6,
      "outputs": [
        {
          "output_type": "execute_result",
          "data": {
            "text/plain": [
              "['\\nA short story is a piece of prose fiction.',\n",
              " 'It can typically be read in a single sitting and focuses on a self-contained incident or series of linked incidents, with the intent of evoking a single effect or mood.',\n",
              " 'The short story is one of the oldest types of literature and has existed in the form of legends, mythic tales, folk tales, fairy tales, tall tales, fables, and anecdotes in various ancient communities around the world.',\n",
              " 'The modern short story developed in the early 19th century']"
            ]
          },
          "metadata": {},
          "execution_count": 6
        }
      ]
    },
    {
      "cell_type": "code",
      "source": [
        "stemmer = PorterStemmer() # object creation\n",
        "stemmer.stem('Going')"
      ],
      "metadata": {
        "colab": {
          "base_uri": "https://localhost:8080/",
          "height": 35
        },
        "id": "ukiiMc4UNGO4",
        "outputId": "09a2efe8-df8c-4db2-b27e-658984425528"
      },
      "execution_count": 7,
      "outputs": [
        {
          "output_type": "execute_result",
          "data": {
            "text/plain": [
              "'go'"
            ],
            "application/vnd.google.colaboratory.intrinsic+json": {
              "type": "string"
            }
          },
          "metadata": {},
          "execution_count": 7
        }
      ]
    },
    {
      "cell_type": "code",
      "source": [
        "nltk.download('wordnet')\n",
        "from nltk.stem import WordNetLemmatizer\n",
        "lemmatizer = WordNetLemmatizer()\n",
        "lemmatizer.lemmatize('going')"
      ],
      "metadata": {
        "colab": {
          "base_uri": "https://localhost:8080/",
          "height": 52
        },
        "id": "PN3Sjtg-NGQJ",
        "outputId": "3291dde1-8004-4d71-f3fe-863485d938d2"
      },
      "execution_count": 8,
      "outputs": [
        {
          "output_type": "stream",
          "name": "stderr",
          "text": [
            "[nltk_data] Downloading package wordnet to /root/nltk_data...\n"
          ]
        },
        {
          "output_type": "execute_result",
          "data": {
            "text/plain": [
              "'going'"
            ],
            "application/vnd.google.colaboratory.intrinsic+json": {
              "type": "string"
            }
          },
          "metadata": {},
          "execution_count": 8
        }
      ]
    },
    {
      "cell_type": "code",
      "source": [
        "# clean paragraph, remove special characters and lower them\n",
        "import re\n",
        "corpus=[]\n",
        "for i in range(len(sentences)):\n",
        "  review = re.sub('[^a-zA-Z]',' ',sentences[i])\n",
        "  review = review.lower()\n",
        "  corpus.append(review)"
      ],
      "metadata": {
        "id": "OznjSUZROD3F"
      },
      "execution_count": 9,
      "outputs": []
    },
    {
      "cell_type": "code",
      "source": [
        "corpus"
      ],
      "metadata": {
        "colab": {
          "base_uri": "https://localhost:8080/"
        },
        "id": "lg_0p3-PPUTQ",
        "outputId": "5574ae81-c717-4fe1-9296-954cf4c7256b"
      },
      "execution_count": 10,
      "outputs": [
        {
          "output_type": "execute_result",
          "data": {
            "text/plain": [
              "[' a short story is a piece of prose fiction ',\n",
              " 'it can typically be read in a single sitting and focuses on a self contained incident or series of linked incidents  with the intent of evoking a single effect or mood ',\n",
              " 'the short story is one of the oldest types of literature and has existed in the form of legends  mythic tales  folk tales  fairy tales  tall tales  fables  and anecdotes in various ancient communities around the world ',\n",
              " 'the modern short story developed in the early   th century']"
            ]
          },
          "metadata": {},
          "execution_count": 10
        }
      ]
    },
    {
      "cell_type": "code",
      "source": [
        "nltk.download('stopwords')\n"
      ],
      "metadata": {
        "colab": {
          "base_uri": "https://localhost:8080/"
        },
        "id": "EbvtUN9zQzYN",
        "outputId": "1dc8b5de-2c96-40e3-fb39-9d2fde83c6cf"
      },
      "execution_count": 11,
      "outputs": [
        {
          "output_type": "stream",
          "name": "stderr",
          "text": [
            "[nltk_data] Downloading package stopwords to /root/nltk_data...\n",
            "[nltk_data]   Unzipping corpora/stopwords.zip.\n"
          ]
        },
        {
          "output_type": "execute_result",
          "data": {
            "text/plain": [
              "True"
            ]
          },
          "metadata": {},
          "execution_count": 11
        }
      ]
    },
    {
      "cell_type": "code",
      "source": [
        "## stemming\n",
        "for i in corpus:\n",
        "  words = nltk.word_tokenize(i)\n",
        "  for word in words:\n",
        "    if word not in set(stopwords.words('english')):\n",
        "      print(stemmer.stem(word))\n"
      ],
      "metadata": {
        "colab": {
          "base_uri": "https://localhost:8080/"
        },
        "id": "I0aYly8TPX21",
        "outputId": "a1801f3f-b734-4fad-8a5c-5833514edcaf"
      },
      "execution_count": 12,
      "outputs": [
        {
          "output_type": "stream",
          "name": "stdout",
          "text": [
            "short\n",
            "stori\n",
            "piec\n",
            "prose\n",
            "fiction\n",
            "typic\n",
            "read\n",
            "singl\n",
            "sit\n",
            "focus\n",
            "self\n",
            "contain\n",
            "incid\n",
            "seri\n",
            "link\n",
            "incid\n",
            "intent\n",
            "evok\n",
            "singl\n",
            "effect\n",
            "mood\n",
            "short\n",
            "stori\n",
            "one\n",
            "oldest\n",
            "type\n",
            "literatur\n",
            "exist\n",
            "form\n",
            "legend\n",
            "mythic\n",
            "tale\n",
            "folk\n",
            "tale\n",
            "fairi\n",
            "tale\n",
            "tall\n",
            "tale\n",
            "fabl\n",
            "anecdot\n",
            "variou\n",
            "ancient\n",
            "commun\n",
            "around\n",
            "world\n",
            "modern\n",
            "short\n",
            "stori\n",
            "develop\n",
            "earli\n",
            "th\n",
            "centuri\n"
          ]
        }
      ]
    },
    {
      "cell_type": "code",
      "source": [
        "stopwords.words('english')"
      ],
      "metadata": {
        "colab": {
          "base_uri": "https://localhost:8080/"
        },
        "id": "7e8tNz_eRSsY",
        "outputId": "7bbc7d1e-c636-4836-e5fc-1ed3d53b4e9c"
      },
      "execution_count": 13,
      "outputs": [
        {
          "output_type": "execute_result",
          "data": {
            "text/plain": [
              "['i',\n",
              " 'me',\n",
              " 'my',\n",
              " 'myself',\n",
              " 'we',\n",
              " 'our',\n",
              " 'ours',\n",
              " 'ourselves',\n",
              " 'you',\n",
              " \"you're\",\n",
              " \"you've\",\n",
              " \"you'll\",\n",
              " \"you'd\",\n",
              " 'your',\n",
              " 'yours',\n",
              " 'yourself',\n",
              " 'yourselves',\n",
              " 'he',\n",
              " 'him',\n",
              " 'his',\n",
              " 'himself',\n",
              " 'she',\n",
              " \"she's\",\n",
              " 'her',\n",
              " 'hers',\n",
              " 'herself',\n",
              " 'it',\n",
              " \"it's\",\n",
              " 'its',\n",
              " 'itself',\n",
              " 'they',\n",
              " 'them',\n",
              " 'their',\n",
              " 'theirs',\n",
              " 'themselves',\n",
              " 'what',\n",
              " 'which',\n",
              " 'who',\n",
              " 'whom',\n",
              " 'this',\n",
              " 'that',\n",
              " \"that'll\",\n",
              " 'these',\n",
              " 'those',\n",
              " 'am',\n",
              " 'is',\n",
              " 'are',\n",
              " 'was',\n",
              " 'were',\n",
              " 'be',\n",
              " 'been',\n",
              " 'being',\n",
              " 'have',\n",
              " 'has',\n",
              " 'had',\n",
              " 'having',\n",
              " 'do',\n",
              " 'does',\n",
              " 'did',\n",
              " 'doing',\n",
              " 'a',\n",
              " 'an',\n",
              " 'the',\n",
              " 'and',\n",
              " 'but',\n",
              " 'if',\n",
              " 'or',\n",
              " 'because',\n",
              " 'as',\n",
              " 'until',\n",
              " 'while',\n",
              " 'of',\n",
              " 'at',\n",
              " 'by',\n",
              " 'for',\n",
              " 'with',\n",
              " 'about',\n",
              " 'against',\n",
              " 'between',\n",
              " 'into',\n",
              " 'through',\n",
              " 'during',\n",
              " 'before',\n",
              " 'after',\n",
              " 'above',\n",
              " 'below',\n",
              " 'to',\n",
              " 'from',\n",
              " 'up',\n",
              " 'down',\n",
              " 'in',\n",
              " 'out',\n",
              " 'on',\n",
              " 'off',\n",
              " 'over',\n",
              " 'under',\n",
              " 'again',\n",
              " 'further',\n",
              " 'then',\n",
              " 'once',\n",
              " 'here',\n",
              " 'there',\n",
              " 'when',\n",
              " 'where',\n",
              " 'why',\n",
              " 'how',\n",
              " 'all',\n",
              " 'any',\n",
              " 'both',\n",
              " 'each',\n",
              " 'few',\n",
              " 'more',\n",
              " 'most',\n",
              " 'other',\n",
              " 'some',\n",
              " 'such',\n",
              " 'no',\n",
              " 'nor',\n",
              " 'not',\n",
              " 'only',\n",
              " 'own',\n",
              " 'same',\n",
              " 'so',\n",
              " 'than',\n",
              " 'too',\n",
              " 'very',\n",
              " 's',\n",
              " 't',\n",
              " 'can',\n",
              " 'will',\n",
              " 'just',\n",
              " 'don',\n",
              " \"don't\",\n",
              " 'should',\n",
              " \"should've\",\n",
              " 'now',\n",
              " 'd',\n",
              " 'll',\n",
              " 'm',\n",
              " 'o',\n",
              " 're',\n",
              " 've',\n",
              " 'y',\n",
              " 'ain',\n",
              " 'aren',\n",
              " \"aren't\",\n",
              " 'couldn',\n",
              " \"couldn't\",\n",
              " 'didn',\n",
              " \"didn't\",\n",
              " 'doesn',\n",
              " \"doesn't\",\n",
              " 'hadn',\n",
              " \"hadn't\",\n",
              " 'hasn',\n",
              " \"hasn't\",\n",
              " 'haven',\n",
              " \"haven't\",\n",
              " 'isn',\n",
              " \"isn't\",\n",
              " 'ma',\n",
              " 'mightn',\n",
              " \"mightn't\",\n",
              " 'mustn',\n",
              " \"mustn't\",\n",
              " 'needn',\n",
              " \"needn't\",\n",
              " 'shan',\n",
              " \"shan't\",\n",
              " 'shouldn',\n",
              " \"shouldn't\",\n",
              " 'wasn',\n",
              " \"wasn't\",\n",
              " 'weren',\n",
              " \"weren't\",\n",
              " 'won',\n",
              " \"won't\",\n",
              " 'wouldn',\n",
              " \"wouldn't\"]"
            ]
          },
          "metadata": {},
          "execution_count": 13
        }
      ]
    },
    {
      "cell_type": "code",
      "source": [
        "## Lemmatization\n",
        "for i in corpus:\n",
        "  words = nltk.word_tokenize(i)\n",
        "  for word in words:\n",
        "    if word not in set(stopwords.words('english')):\n",
        "      print(lemmatizer.lemmatize(word))\n"
      ],
      "metadata": {
        "colab": {
          "base_uri": "https://localhost:8080/"
        },
        "id": "vyxaOJUpRcS8",
        "outputId": "940265c6-136c-40e0-bfcc-d10da910cfb1"
      },
      "execution_count": 14,
      "outputs": [
        {
          "output_type": "stream",
          "name": "stdout",
          "text": [
            "short\n",
            "story\n",
            "piece\n",
            "prose\n",
            "fiction\n",
            "typically\n",
            "read\n",
            "single\n",
            "sitting\n",
            "focus\n",
            "self\n",
            "contained\n",
            "incident\n",
            "series\n",
            "linked\n",
            "incident\n",
            "intent\n",
            "evoking\n",
            "single\n",
            "effect\n",
            "mood\n",
            "short\n",
            "story\n",
            "one\n",
            "oldest\n",
            "type\n",
            "literature\n",
            "existed\n",
            "form\n",
            "legend\n",
            "mythic\n",
            "tale\n",
            "folk\n",
            "tale\n",
            "fairy\n",
            "tale\n",
            "tall\n",
            "tale\n",
            "fable\n",
            "anecdote\n",
            "various\n",
            "ancient\n",
            "community\n",
            "around\n",
            "world\n",
            "modern\n",
            "short\n",
            "story\n",
            "developed\n",
            "early\n",
            "th\n",
            "century\n"
          ]
        }
      ]
    },
    {
      "cell_type": "code",
      "source": [
        "# Bag of words\n",
        "from sklearn.feature_extraction.text import CountVectorizer\n",
        "cv = CountVectorizer()\n"
      ],
      "metadata": {
        "id": "U4M2Ly62RcU0"
      },
      "execution_count": 15,
      "outputs": []
    },
    {
      "cell_type": "code",
      "source": [
        "x = cv.fit_transform(corpus)"
      ],
      "metadata": {
        "id": "Xq9BiY-3SPmB"
      },
      "execution_count": 16,
      "outputs": []
    },
    {
      "cell_type": "code",
      "source": [
        "cv.vocabulary_"
      ],
      "metadata": {
        "colab": {
          "base_uri": "https://localhost:8080/"
        },
        "id": "9wRYdlcBSm48",
        "outputId": "be6a5c7a-fdfa-41c2-9e25-e6768809ff9e"
      },
      "execution_count": 17,
      "outputs": [
        {
          "output_type": "execute_result",
          "data": {
            "text/plain": [
              "{'short': 43,\n",
              " 'story': 46,\n",
              " 'is': 25,\n",
              " 'piece': 38,\n",
              " 'of': 33,\n",
              " 'prose': 39,\n",
              " 'fiction': 16,\n",
              " 'it': 26,\n",
              " 'can': 5,\n",
              " 'typically': 52,\n",
              " 'be': 4,\n",
              " 'read': 40,\n",
              " 'in': 21,\n",
              " 'single': 44,\n",
              " 'sitting': 45,\n",
              " 'and': 1,\n",
              " 'focuses': 17,\n",
              " 'on': 35,\n",
              " 'self': 41,\n",
              " 'contained': 8,\n",
              " 'incident': 22,\n",
              " 'or': 37,\n",
              " 'series': 42,\n",
              " 'linked': 28,\n",
              " 'incidents': 23,\n",
              " 'with': 54,\n",
              " 'the': 50,\n",
              " 'intent': 24,\n",
              " 'evoking': 12,\n",
              " 'effect': 11,\n",
              " 'mood': 31,\n",
              " 'one': 36,\n",
              " 'oldest': 34,\n",
              " 'types': 51,\n",
              " 'literature': 29,\n",
              " 'has': 20,\n",
              " 'existed': 13,\n",
              " 'form': 19,\n",
              " 'legends': 27,\n",
              " 'mythic': 32,\n",
              " 'tales': 47,\n",
              " 'folk': 18,\n",
              " 'fairy': 15,\n",
              " 'tall': 48,\n",
              " 'fables': 14,\n",
              " 'anecdotes': 2,\n",
              " 'various': 53,\n",
              " 'ancient': 0,\n",
              " 'communities': 7,\n",
              " 'around': 3,\n",
              " 'world': 55,\n",
              " 'modern': 30,\n",
              " 'developed': 9,\n",
              " 'early': 10,\n",
              " 'th': 49,\n",
              " 'century': 6}"
            ]
          },
          "metadata": {},
          "execution_count": 17
        }
      ]
    },
    {
      "cell_type": "code",
      "source": [
        "corpus[0]"
      ],
      "metadata": {
        "colab": {
          "base_uri": "https://localhost:8080/",
          "height": 35
        },
        "id": "u7KzF4y5S6qy",
        "outputId": "c99c6ee1-c658-42f5-eeea-7ce355558c06"
      },
      "execution_count": 18,
      "outputs": [
        {
          "output_type": "execute_result",
          "data": {
            "text/plain": [
              "' a short story is a piece of prose fiction '"
            ],
            "application/vnd.google.colaboratory.intrinsic+json": {
              "type": "string"
            }
          },
          "metadata": {},
          "execution_count": 18
        }
      ]
    },
    {
      "cell_type": "code",
      "source": [
        "x[0].toarray()"
      ],
      "metadata": {
        "colab": {
          "base_uri": "https://localhost:8080/"
        },
        "id": "a8FHQaF2S00j",
        "outputId": "49d9e36f-e37e-424a-ebb1-17daf150a404"
      },
      "execution_count": 19,
      "outputs": [
        {
          "output_type": "execute_result",
          "data": {
            "text/plain": [
              "array([[0, 0, 0, 0, 0, 0, 0, 0, 0, 0, 0, 0, 0, 0, 0, 0, 1, 0, 0, 0, 0, 0,\n",
              "        0, 0, 0, 1, 0, 0, 0, 0, 0, 0, 0, 1, 0, 0, 0, 0, 1, 1, 0, 0, 0, 1,\n",
              "        0, 0, 1, 0, 0, 0, 0, 0, 0, 0, 0, 0]])"
            ]
          },
          "metadata": {},
          "execution_count": 19
        }
      ]
    },
    {
      "cell_type": "code",
      "source": [
        "# Bag of words without stopwords\n",
        "ans = []\n",
        "for i in range(len(sentences)):\n",
        "  review = re.sub('[^a-zA-Z]',' ',sentences[i])\n",
        "  review = review.lower()\n",
        "  review = review.split()\n",
        "  review = [lemmatizer.lemmatize(word) for word in review if not word in set(stopwords.words('english'))]\n",
        "  ans.append(review)"
      ],
      "metadata": {
        "id": "QecRklIiStEM"
      },
      "execution_count": 20,
      "outputs": []
    },
    {
      "cell_type": "code",
      "source": [
        "ans"
      ],
      "metadata": {
        "colab": {
          "base_uri": "https://localhost:8080/"
        },
        "id": "8X9EJ0GwVVLo",
        "outputId": "a886c5cd-bcfe-441f-e64a-6da0a7b98785"
      },
      "execution_count": 21,
      "outputs": [
        {
          "output_type": "execute_result",
          "data": {
            "text/plain": [
              "[['short', 'story', 'piece', 'prose', 'fiction'],\n",
              " ['typically',\n",
              "  'read',\n",
              "  'single',\n",
              "  'sitting',\n",
              "  'focus',\n",
              "  'self',\n",
              "  'contained',\n",
              "  'incident',\n",
              "  'series',\n",
              "  'linked',\n",
              "  'incident',\n",
              "  'intent',\n",
              "  'evoking',\n",
              "  'single',\n",
              "  'effect',\n",
              "  'mood'],\n",
              " ['short',\n",
              "  'story',\n",
              "  'one',\n",
              "  'oldest',\n",
              "  'type',\n",
              "  'literature',\n",
              "  'existed',\n",
              "  'form',\n",
              "  'legend',\n",
              "  'mythic',\n",
              "  'tale',\n",
              "  'folk',\n",
              "  'tale',\n",
              "  'fairy',\n",
              "  'tale',\n",
              "  'tall',\n",
              "  'tale',\n",
              "  'fable',\n",
              "  'anecdote',\n",
              "  'various',\n",
              "  'ancient',\n",
              "  'community',\n",
              "  'around',\n",
              "  'world'],\n",
              " ['modern', 'short', 'story', 'developed', 'early', 'th', 'century']]"
            ]
          },
          "metadata": {},
          "execution_count": 21
        }
      ]
    },
    {
      "cell_type": "code",
      "source": [
        "from sklearn.feature_extraction.text import TfidfVectorizer\n",
        "cv = TfidfVectorizer()\n",
        "x = cv.fit_transform(corpus)"
      ],
      "metadata": {
        "id": "Js2Y6UHqqZwy"
      },
      "execution_count": 26,
      "outputs": []
    },
    {
      "cell_type": "code",
      "source": [
        "corpus[0]"
      ],
      "metadata": {
        "colab": {
          "base_uri": "https://localhost:8080/",
          "height": 35
        },
        "id": "SE8kqcUlq0B_",
        "outputId": "765fda24-ac8b-4e6e-9a24-9e055b0e1196"
      },
      "execution_count": 27,
      "outputs": [
        {
          "output_type": "execute_result",
          "data": {
            "text/plain": [
              "' a short story is a piece of prose fiction '"
            ],
            "application/vnd.google.colaboratory.intrinsic+json": {
              "type": "string"
            }
          },
          "metadata": {},
          "execution_count": 27
        }
      ]
    },
    {
      "cell_type": "code",
      "source": [
        "x[0].toarray() # vector creation"
      ],
      "metadata": {
        "colab": {
          "base_uri": "https://localhost:8080/"
        },
        "id": "3KtAMSeoq24g",
        "outputId": "5f7c6732-4601-41ac-dabd-7369d8f13258"
      },
      "execution_count": 28,
      "outputs": [
        {
          "output_type": "execute_result",
          "data": {
            "text/plain": [
              "array([[0.        , 0.        , 0.        , 0.        , 0.        ,\n",
              "        0.        , 0.        , 0.        , 0.        , 0.        ,\n",
              "        0.        , 0.        , 0.        , 0.        , 0.        ,\n",
              "        0.        , 0.45436601, 0.        , 0.        , 0.        ,\n",
              "        0.        , 0.        , 0.        , 0.        , 0.        ,\n",
              "        0.35822738, 0.        , 0.        , 0.        , 0.        ,\n",
              "        0.        , 0.        , 0.        , 0.29001594, 0.        ,\n",
              "        0.        , 0.        , 0.        , 0.45436601, 0.45436601,\n",
              "        0.        , 0.        , 0.        , 0.29001594, 0.        ,\n",
              "        0.        , 0.29001594, 0.        , 0.        , 0.        ,\n",
              "        0.        , 0.        , 0.        , 0.        , 0.        ,\n",
              "        0.        ]])"
            ]
          },
          "metadata": {},
          "execution_count": 28
        }
      ]
    },
    {
      "cell_type": "code",
      "source": [
        "# Trigram or ngrams\n",
        "cv2 = TfidfVectorizer(ngram_range = (3,3))\n",
        "x2 = cv.fit_transform(corpus)"
      ],
      "metadata": {
        "id": "6v1Fk9sErCdm"
      },
      "execution_count": 30,
      "outputs": []
    },
    {
      "cell_type": "code",
      "source": [
        "x2[0].toarray()"
      ],
      "metadata": {
        "colab": {
          "base_uri": "https://localhost:8080/"
        },
        "id": "UgiDV1Uxr0IH",
        "outputId": "73b095d7-1d53-48bf-8ded-74623d1c9329"
      },
      "execution_count": 32,
      "outputs": [
        {
          "output_type": "execute_result",
          "data": {
            "text/plain": [
              "array([[0.        , 0.        , 0.        , 0.        , 0.        ,\n",
              "        0.        , 0.        , 0.        , 0.        , 0.        ,\n",
              "        0.        , 0.        , 0.        , 0.        , 0.        ,\n",
              "        0.        , 0.45436601, 0.        , 0.        , 0.        ,\n",
              "        0.        , 0.        , 0.        , 0.        , 0.        ,\n",
              "        0.35822738, 0.        , 0.        , 0.        , 0.        ,\n",
              "        0.        , 0.        , 0.        , 0.29001594, 0.        ,\n",
              "        0.        , 0.        , 0.        , 0.45436601, 0.45436601,\n",
              "        0.        , 0.        , 0.        , 0.29001594, 0.        ,\n",
              "        0.        , 0.29001594, 0.        , 0.        , 0.        ,\n",
              "        0.        , 0.        , 0.        , 0.        , 0.        ,\n",
              "        0.        ]])"
            ]
          },
          "metadata": {},
          "execution_count": 32
        }
      ]
    },
    {
      "cell_type": "code",
      "source": [
        "# make tfidf for top 3 max features words\n",
        "cv2 = TfidfVectorizer(ngram_range = (3,3),max_features=3)\n",
        "x2 = cv.fit_transform(corpus)"
      ],
      "metadata": {
        "id": "Fs2s0sTRr_aP"
      },
      "execution_count": 34,
      "outputs": []
    },
    {
      "cell_type": "code",
      "source": [
        "x2[0].toarray()"
      ],
      "metadata": {
        "colab": {
          "base_uri": "https://localhost:8080/"
        },
        "id": "sE6YwZ4islTT",
        "outputId": "8d982c76-09ec-49ed-9430-538be973de47"
      },
      "execution_count": 36,
      "outputs": [
        {
          "output_type": "execute_result",
          "data": {
            "text/plain": [
              "array([[0.        , 0.        , 0.        , 0.        , 0.        ,\n",
              "        0.        , 0.        , 0.        , 0.        , 0.        ,\n",
              "        0.        , 0.        , 0.        , 0.        , 0.        ,\n",
              "        0.        , 0.45436601, 0.        , 0.        , 0.        ,\n",
              "        0.        , 0.        , 0.        , 0.        , 0.        ,\n",
              "        0.35822738, 0.        , 0.        , 0.        , 0.        ,\n",
              "        0.        , 0.        , 0.        , 0.29001594, 0.        ,\n",
              "        0.        , 0.        , 0.        , 0.45436601, 0.45436601,\n",
              "        0.        , 0.        , 0.        , 0.29001594, 0.        ,\n",
              "        0.        , 0.29001594, 0.        , 0.        , 0.        ,\n",
              "        0.        , 0.        , 0.        , 0.        , 0.        ,\n",
              "        0.        ]])"
            ]
          },
          "metadata": {},
          "execution_count": 36
        }
      ]
    },
    {
      "cell_type": "code",
      "source": [],
      "metadata": {
        "id": "pnIqALhXsz9e"
      },
      "execution_count": null,
      "outputs": []
    }
  ]
}